{
 "cells": [
  {
   "cell_type": "markdown",
   "id": "e3b9b2d7",
   "metadata": {},
   "source": [
    "Created by Mahdi Mashayekhi </br></br>\n",
    "Email : MahdiMashayekhi.ai@gmail.com </br>\n",
    "Github : https://github.com/MahdiMashayekhi-AI </br>\n",
    "Site : http://mahdimashayekhi.gigfa.com </br>\n",
    "YouTube : https://youtube.com/@MahdiMashayekhi </br>\n",
    "Twitter : https://twitter.com/Mashayekhi_AI </br>\n",
    "LinkedIn : https://www.linkedin.com/in/mahdimashayekhi/ </br>"
   ]
  },
  {
   "cell_type": "code",
   "execution_count": null,
   "id": "20ba3447",
   "metadata": {},
   "outputs": [],
   "source": [
    "'''\n",
    "In any advertising agency, it is very important to predict the most profitable users who are very likely to respond to targeted advertisements. In this article, I’ll walk you through how to train a model for the task of click-through rate prediction with Machine Learning using Python.\n",
    "\n",
    "'''"
   ]
  },
  {
   "cell_type": "code",
   "execution_count": null,
   "id": "a3d23073",
   "metadata": {},
   "outputs": [],
   "source": [
    "# Import libraries\n",
    "from sklearn.metrics import f1_score\n",
    "from sklearn.metrics import accuracy_score\n",
    "from sklearn.linear_model import LogisticRegression\n",
    "from sklearn.model_selection import train_test_split\n",
    "import pandas as pd\n",
    "data = pd.read_csv('advertising.csv')\n",
    "print(data.head())"
   ]
  },
  {
   "cell_type": "code",
   "execution_count": null,
   "id": "01d5edc7",
   "metadata": {},
   "outputs": [],
   "source": [
    "# Check null values\n",
    "print(data.isnull().sum())\n",
    "print(data.columns)"
   ]
  },
  {
   "cell_type": "code",
   "execution_count": null,
   "id": "55cb074f",
   "metadata": {},
   "outputs": [],
   "source": [
    "# Here will drop some unnecessary columns:\n",
    "x = data.iloc[:, 0:7]\n",
    "x = x.drop(['Ad Topic Line', 'City'], axis=1)\n",
    "y = data.iloc[:, 9]"
   ]
  },
  {
   "cell_type": "code",
   "execution_count": null,
   "id": "3af630a3",
   "metadata": {},
   "outputs": [],
   "source": [
    "# Split data to train and test\n",
    "x_train, x_test, y_train, y_test = train_test_split(\n",
    "    x, y, test_size=0.3, random_state=4)"
   ]
  },
  {
   "cell_type": "code",
   "execution_count": null,
   "id": "bdbb61b7",
   "metadata": {},
   "outputs": [],
   "source": [
    "# Logistic Regression Model:\n",
    "Lr = LogisticRegression(C=0.01, random_state=0)\n",
    "Lr.fit(x_train, y_train)"
   ]
  },
  {
   "cell_type": "code",
   "execution_count": null,
   "id": "cdd64a58",
   "metadata": {},
   "outputs": [],
   "source": [
    "# Prdiction of Model\n",
    "y_pred = Lr.predict(x_test)\n",
    "print(y_pred)"
   ]
  },
  {
   "cell_type": "code",
   "execution_count": null,
   "id": "dd5f6fea",
   "metadata": {},
   "outputs": [],
   "source": [
    "# Prdiction of Regression Model probabilities\n",
    "y_pred_proba = Lr.predict_proba(x_test)\n",
    "print(y_pred_proba)"
   ]
  },
  {
   "cell_type": "code",
   "execution_count": null,
   "id": "5f48de0b",
   "metadata": {},
   "outputs": [],
   "source": [
    "print(accuracy_score(y_test, y_pred))\n",
    "print(f1_score(y_test, y_pred))"
   ]
  }
 ],
 "metadata": {
  "kernelspec": {
   "display_name": "Python 3 (ipykernel)",
   "language": "python",
   "name": "python3"
  },
  "language_info": {
   "codemirror_mode": {
    "name": "ipython",
    "version": 3
   },
   "file_extension": ".py",
   "mimetype": "text/x-python",
   "name": "python",
   "nbconvert_exporter": "python",
   "pygments_lexer": "ipython3",
   "version": "3.9.12"
  }
 },
 "nbformat": 4,
 "nbformat_minor": 5
}
